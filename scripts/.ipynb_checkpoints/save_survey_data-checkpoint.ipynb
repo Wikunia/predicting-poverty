{
 "cells": [
  {
   "cell_type": "code",
   "execution_count": 1,
   "metadata": {},
   "outputs": [],
   "source": [
    "import numpy as np\n",
    "import pandas as pd\n",
    "import os\n",
    "import math\n",
    "import matplotlib.pyplot as plt\n",
    "\n",
    "\n",
    "import geopy\n",
    "import geopy.distance as distance"
   ]
  },
  {
   "cell_type": "code",
   "execution_count": 3,
   "metadata": {},
   "outputs": [],
   "source": [
    "country = \"malawi\"\n",
    "fns = '../data/output/LSMS/Malawi 2016 LSMS (Household).txt'\n",
    "out_dir = '../data/output/LSMS/'\n",
    "keys = ['lats', 'lons', 'expagg']"
   ]
  },
  {
   "cell_type": "code",
   "execution_count": 5,
   "metadata": {},
   "outputs": [
    {
     "name": "stdout",
     "output_type": "stream",
     "text": [
      "Lats: -17.140116 - -9.384701\n",
      "Lons: 32.813324 - 35.900366\n",
      "onek_lats:  0.008993203354927815\n",
      "onek_lats:  0.009239627943394169\n",
      "size_y:  863\n",
      "size_x:  335\n",
      "Depth:  414\n"
     ]
    }
   ],
   "source": [
    "df = pd.read_csv(fns, sep=' ')\n",
    "\n",
    "df = df[(df.lat!=0) & (df.lon!=0)]\n",
    "df.to_csv(out_dir+country+'/data.csv')\n",
    "\n",
    "# download locs\n",
    "loc_around = []\n",
    "loc_cluster = [] \n",
    "for index, row in df.iterrows():\n",
    "    center_lat = row['lat']\n",
    "    center_lon = row['lon']\n",
    "\n",
    "    start = geopy.Point(center_lat, center_lon)\n",
    "    d = geopy.distance.great_circle(kilometers = 5)\n",
    "    end_north = d.destination(point=start, bearing=0)\n",
    "    end_east = d.destination(point=start, bearing=90)\n",
    "    end_south = d.destination(point=start, bearing=180)\n",
    "    end_west = d.destination(point=start, bearing=270)\n",
    "    top_left = geopy.Point(end_north.latitude,end_west.longitude)\n",
    "    top_right = geopy.Point(end_north.latitude,end_east.longitude)\n",
    "    bottom_left = geopy.Point(end_south.latitude,end_west.longitude)\n",
    "    bottom_right = geopy.Point(end_south.latitude,end_east.longitude)\n",
    "\n",
    "    step_down = (bottom_left.latitude-top_left.latitude)/10\n",
    "    step_right = (top_right.longitude-top_left.longitude)/10\n",
    "\n",
    "    for yi in range(11):\n",
    "        y = top_left.latitude+yi*step_down\n",
    "        for xi in range(11):\n",
    "            x = top_left.longitude+xi*step_right\n",
    "            loc_around.append((y,x))\n",
    "            loc_cluster.append((row['lat'],row['lon']))\n",
    "\n",
    "with open(os.path.join(out_dir, country, 'candidate_download_locs.txt'), 'w') as f:\n",
    "    for loc, cluster_loc in zip(loc_around, loc_cluster):\n",
    "        f.write(\"%f %f %f %f\\n\" % (loc[0], loc[1], cluster_loc[0], cluster_loc[1]))\n",
    "\n",
    "lats = []\n",
    "lons = []\n",
    "with open(os.path.join(out_dir, country, 'candidate_download_locs.csv'), 'w') as f:\n",
    "      c = 0\n",
    "      f.write(\"name,latitude,longitude\\n\")\n",
    "      for loc, cluster_loc in zip(loc_around, loc_cluster):\n",
    "        f.write(\"%s,%f,%f\\n\" % (country+\"_\"+str(c),loc[0],loc[1]))\n",
    "        c += 1\n",
    "        lats.append(loc[0])\n",
    "        lons.append(loc[1])\n",
    "\n",
    "# clustering\n",
    "nlats = np.array(lats)\n",
    "nlons = np.array(lons)\n",
    "nlats_min = np.min(nlats)\n",
    "nlats_max = np.max(nlats)\n",
    "nlons_min = np.min(nlons)\n",
    "nlons_max = np.max(nlons)\n",
    "\n",
    "print(\"Lats: %f - %f\" % (nlats_min, nlats_max))\n",
    "print(\"Lons: %f - %f\" % (nlons_min, nlons_max))\n",
    "\n",
    "# size of array \n",
    "lats_dif = nlats_max - nlats_min\n",
    "lons_dif = nlons_max - nlons_min\n",
    "mid_point = geopy.Point(((nlats_max + nlats_min)/2), ((nlons_max + nlons_min)/2))\n",
    "\n",
    "d = geopy.distance.great_circle(kilometers = 1)\n",
    "onek_lats = mid_point.latitude-d.destination(point=mid_point, bearing=180).latitude \n",
    "onek_lons = mid_point.longitude-d.destination(point=mid_point, bearing=270).longitude\n",
    "print(\"onek_lats: \", onek_lats)\n",
    "print(\"onek_lats: \", onek_lons)\n",
    "\n",
    "size_y = math.ceil(lats_dif/onek_lats)\n",
    "size_x = math.ceil(lons_dif/onek_lons)\n",
    "\n",
    "print(\"size_y: \", size_y)\n",
    "print(\"size_x: \", size_x)\n",
    "\n",
    "# get depth\n",
    "np_counting = np.zeros((size_y, size_x), dtype=np.int)\n",
    "\n",
    "for lat,lon in zip(lats, lons):\n",
    "    y_pos = int((nlats_max-lat)/onek_lats)\n",
    "    x_pos = int((lon-nlons_min)/onek_lons)\n",
    "    np_counting[y_pos, x_pos] += 1\n",
    "\n",
    "depth = np.max(np_counting)\n",
    "\n",
    "np_clustering = -np.ones((size_y, size_x, depth), dtype=np.int)\n",
    "print(\"Depth: \", depth)\n",
    "\n",
    "i = 0\n",
    "for lat,lon in zip(lats, lons):\n",
    "    y_pos = int((nlats_max-lat)/onek_lats)\n",
    "    x_pos = int((lon-nlons_min)/onek_lons)\n",
    "    d = 0\n",
    "    while np_clustering[y_pos, x_pos, d] != -1:\n",
    "        d += 1\n",
    "    np_clustering[y_pos, x_pos, d] = i//121 # get the household id\n",
    "    i += 1\n",
    "\n",
    "np.save(os.path.join(out_dir, country, 'clustering'), np_clustering)"
   ]
  },
  {
   "cell_type": "code",
   "execution_count": 9,
   "metadata": {},
   "outputs": [],
   "source": [
    "iid2hh = []\n",
    "with open(os.path.join(out_dir, country, 'candidate_download_locs.csv'), 'w') as f:\n",
    "    f.write(\"name,latitude,longitude\\n\")\n",
    "    c = 0\n",
    "    for y in range(size_y):\n",
    "        lat = nlats_max-y*onek_lats\n",
    "        for x in range(size_x):\n",
    "            lon = nlons_min+x*onek_lons\n",
    "            if np_clustering[y,x,0] != -1:\n",
    "                f.write(\"%s,%f,%f\\n\" % (country+\"_\"+str(c),lat,lon))\n",
    "                # number of households\n",
    "                nhh = np_counting[y,x]\n",
    "                iid2hh.append(list(np_clustering[y,x,:nhh]))\n",
    "                c += 1"
   ]
  },
  {
   "cell_type": "code",
   "execution_count": 11,
   "metadata": {},
   "outputs": [
    {
     "name": "stdout",
     "output_type": "stream",
     "text": [
      "[[11932.0, 11933.0, 11934.0, 11935.0, 11936.0, 11937.0, 11938.0, 11939.0, 11940.0, 11941.0, 11942.0, 11943.0, 11944.0, 11945.0, 11946.0, 11947.0], [11932.0, 11933.0, 11934.0, 11935.0, 11936.0, 11937.0, 11938.0, 11939.0, 11940.0, 11941.0, 11942.0, 11943.0, 11944.0, 11945.0, 11946.0, 11947.0]]\n"
     ]
    }
   ],
   "source": [
    "print(iid2hh[:2])"
   ]
  }
 ],
 "metadata": {
  "kernelspec": {
   "display_name": "Python 3",
   "language": "python",
   "name": "python3"
  },
  "language_info": {
   "codemirror_mode": {
    "name": "ipython",
    "version": 3
   },
   "file_extension": ".py",
   "mimetype": "text/x-python",
   "name": "python",
   "nbconvert_exporter": "python",
   "pygments_lexer": "ipython3",
   "version": "3.7.0"
  }
 },
 "nbformat": 4,
 "nbformat_minor": 2
}
