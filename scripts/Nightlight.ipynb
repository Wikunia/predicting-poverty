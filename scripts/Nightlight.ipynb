{
 "cells": [
  {
   "cell_type": "code",
   "execution_count": 1,
   "metadata": {},
   "outputs": [],
   "source": [
    "from osgeo import gdal\n",
    "import numpy as np\n",
    "import matplotlib.pyplot as plt\n",
    "from fast_histogram import histogram1d"
   ]
  },
  {
   "cell_type": "code",
   "execution_count": 2,
   "metadata": {},
   "outputs": [],
   "source": [
    "nightlight_fname = \"south_middle\"\n",
    "\n",
    "driver = gdal.GetDriverByName('GTiff')\n",
    "filename = \"../data/input/Nightlights/2016/\"+nightlight_fname+\".tif\" #path to raster\n",
    "dataset = gdal.Open(filename)\n",
    "band = dataset.GetRasterBand(1)\n",
    "\n",
    "cols = dataset.RasterXSize\n",
    "rows = dataset.RasterYSize"
   ]
  },
  {
   "cell_type": "code",
   "execution_count": 3,
   "metadata": {},
   "outputs": [
    {
     "name": "stdout",
     "output_type": "stream",
     "text": [
      "xOr:  -60.00208333335\n",
      "yOr:  0.00208333335\n",
      "pW:  0.0041666667\n",
      "pH:  0.0041666667\n"
     ]
    }
   ],
   "source": [
    "transform = dataset.GetGeoTransform()\n",
    "\n",
    "xOrigin = transform[0]\n",
    "yOrigin = transform[3]\n",
    "pixelWidth = transform[1]\n",
    "pixelHeight = -transform[5]\n",
    "\n",
    "print(\"xOr: \", xOrigin)\n",
    "print(\"yOr: \", yOrigin)\n",
    "print(\"pW: \", pixelWidth)\n",
    "print(\"pH: \", pixelHeight)\n",
    "\n",
    "\n",
    "data = band.ReadAsArray(0, 0, cols, rows)"
   ]
  },
  {
   "cell_type": "code",
   "execution_count": 4,
   "metadata": {},
   "outputs": [],
   "source": [
    "np_data = np.array(data)"
   ]
  },
  {
   "cell_type": "code",
   "execution_count": 5,
   "metadata": {},
   "outputs": [
    {
     "name": "stdout",
     "output_type": "stream",
     "text": [
      "0.0\n",
      "11059.386\n"
     ]
    }
   ],
   "source": [
    "print(np.min(np_data))\n",
    "print(np.max(np_data))"
   ]
  },
  {
   "cell_type": "code",
   "execution_count": 6,
   "metadata": {},
   "outputs": [],
   "source": [
    "bins = 50\n",
    "hist = histogram1d(np_data, bins=bins, range=[0,1])"
   ]
  },
  {
   "cell_type": "code",
   "execution_count": 7,
   "metadata": {},
   "outputs": [
    {
     "name": "stdout",
     "output_type": "stream",
     "text": [
      "[4.45543188e+08 0.00000000e+00 2.94410000e+04 7.61850000e+04\n",
      " 9.97970000e+04 1.17728000e+05 1.26909000e+05 1.30556000e+05\n",
      " 1.28390000e+05 1.22489000e+05 1.15322000e+05 1.07863000e+05\n",
      " 9.97750000e+04 9.22980000e+04 8.61440000e+04 7.97370000e+04\n",
      " 7.33080000e+04 6.83310000e+04 6.35420000e+04 5.94160000e+04\n",
      " 5.52600000e+04 5.17040000e+04 4.83590000e+04 4.53260000e+04\n",
      " 4.25840000e+04 3.98020000e+04 3.75600000e+04 3.60230000e+04\n",
      " 3.33360000e+04 3.20200000e+04 3.01020000e+04 2.84980000e+04\n",
      " 2.74320000e+04 2.60350000e+04 2.48780000e+04 2.35370000e+04\n",
      " 2.28540000e+04 2.15290000e+04 2.06770000e+04 1.98530000e+04\n",
      " 1.90370000e+04 1.83100000e+04 1.76250000e+04 1.70080000e+04\n",
      " 1.65930000e+04 1.56570000e+04 1.51800000e+04 1.46290000e+04\n",
      " 1.41930000e+04 1.38290000e+04]\n"
     ]
    }
   ],
   "source": [
    "print(hist)"
   ]
  },
  {
   "cell_type": "code",
   "execution_count": 8,
   "metadata": {},
   "outputs": [],
   "source": [
    "x = np.arange(0,1,1/bins)"
   ]
  },
  {
   "cell_type": "code",
   "execution_count": 9,
   "metadata": {},
   "outputs": [
    {
     "data": {
      "image/png": "[encoded data removed]",
      "text/plain": [
       "<Figure size 432x288 with 1 Axes>"
      ]
     },
     "metadata": {
      "needs_background": "light"
     },
     "output_type": "display_data"
    }
   ],
   "source": [
    "plt.bar(x, hist, width=1/bins)\n",
    "plt.semilogy()\n",
    "plt.show()"
   ]
  },
  {
   "cell_type": "code",
   "execution_count": 10,
   "metadata": {},
   "outputs": [
    {
     "name": "stdout",
     "output_type": "stream",
     "text": [
      "0.008317334401709401\n",
      "Nonzero: 0.832 %\n"
     ]
    }
   ],
   "source": [
    "nz = np.count_nonzero(np_data)\n",
    "print(nz/(np_data.shape[0]*np_data.shape[1]))\n",
    "print(\"Nonzero: %.3f %%\" % ((nz/(np_data.shape[0]*np_data.shape[1]))*100))"
   ]
  },
  {
   "cell_type": "code",
   "execution_count": 11,
   "metadata": {},
   "outputs": [
    {
     "data": {
      "text/plain": [
       "0.005594602934460536"
      ]
     },
     "execution_count": 11,
     "metadata": {},
     "output_type": "execute_result"
    }
   ],
   "source": [
    "(np.sum(hist)-hist[0])/np.sum(hist)"
   ]
  },
  {
   "cell_type": "code",
   "execution_count": 12,
   "metadata": {},
   "outputs": [
    {
     "name": "stdout",
     "output_type": "stream",
     "text": [
      "448049849.0\n",
      "449280000\n"
     ]
    }
   ],
   "source": [
    "print(np.sum(hist))\n",
    "print(np_data.shape[0]*np_data.shape[1])"
   ]
  },
  {
   "cell_type": "code",
   "execution_count": 17,
   "metadata": {},
   "outputs": [
    {
     "name": "stdout",
     "output_type": "stream",
     "text": [
      "[1, 14]\n",
      "1 - 14 \n",
      "1246753 \n",
      "14 - 50 \n",
      "1259908 \n"
     ]
    }
   ],
   "source": [
    "remaining = np.sum(hist[1:])\n",
    "blocks = 2\n",
    "steps = [1]\n",
    "for i in range(blocks-1):\n",
    "    cs = 0\n",
    "    for mid in range(steps[-1],len(hist)):\n",
    "        if cs+hist[mid] > remaining/(blocks-i):\n",
    "            break\n",
    "        cs += hist[mid]\n",
    "    steps.append(mid)\n",
    "    remaining -= cs\n",
    "print(steps)\n",
    "steps.append(bins)\n",
    "for i in range(1,len(steps)):\n",
    "    print(\"%d - %d \" % (steps[i-1],steps[i]))\n",
    "    print(\"%d \" % np.sum(hist[steps[i-1]:steps[i]]))\n"
   ]
  },
  {
   "cell_type": "code",
   "execution_count": 18,
   "metadata": {},
   "outputs": [
    {
     "data": {
      "text/plain": [
       "array([0.02, 0.28])"
      ]
     },
     "execution_count": 18,
     "metadata": {},
     "output_type": "execute_result"
    }
   ],
   "source": [
    "x[steps[:-1]]"
   ]
  }
 ],
 "metadata": {
  "kernelspec": {
   "display_name": "Python 3",
   "language": "python",
   "name": "python3"
  },
  "language_info": {
   "codemirror_mode": {
    "name": "ipython",
    "version": 3
   },
   "file_extension": ".py",
   "mimetype": "text/x-python",
   "name": "python",
   "nbconvert_exporter": "python",
   "pygments_lexer": "ipython3",
   "version": "3.7.0"
  }
 },
 "nbformat": 4,
 "nbformat_minor": 2
}
